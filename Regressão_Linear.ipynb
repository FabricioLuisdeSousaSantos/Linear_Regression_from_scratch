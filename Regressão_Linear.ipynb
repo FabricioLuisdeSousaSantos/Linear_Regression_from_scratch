{
 "cells": [
  {
   "cell_type": "code",
   "execution_count": 58,
   "id": "2c5605b4",
   "metadata": {},
   "outputs": [],
   "source": [
    "from sklearn.datasets import make_regression\n",
    "from sklearn.model_selection import train_test_split"
   ]
  },
  {
   "cell_type": "code",
   "execution_count": 59,
   "id": "2d730adb",
   "metadata": {},
   "outputs": [],
   "source": [
    "X, y = make_regression(n_samples=150, n_features=1, n_targets=1, coef=0, bias=0, noise=6)\n",
    "X = X.reshape(-1, 1)\n",
    "y = y.reshape(-1, 1)"
   ]
  },
  {
   "cell_type": "code",
   "execution_count": 60,
   "id": "7635b9d8",
   "metadata": {},
   "outputs": [],
   "source": [
    "X_train, X_test, y_train, y_test = train_test_split(X, y, test_size=0.33, random_state=42)"
   ]
  },
  {
   "cell_type": "code",
   "execution_count": 71,
   "id": "5c604609",
   "metadata": {},
   "outputs": [],
   "source": [
    "class LinearRegressionn(object):\n",
    "    import numpy as np\n",
    "    def __init__(self, learning_rate=0.001, epochs=1000, m=0, b=0):\n",
    "        self.learning_rate = learning_rate\n",
    "        self.epochs = epochs\n",
    "        self.m = m\n",
    "        self.b = b\n",
    "    \n",
    "    def fitt(self, X_train, y_train, verbose=False):\n",
    "        for i in range(self.epochs):\n",
    "            y_pred = self.m * X_train + self.b\n",
    "            m_deri = sum(2*X_train*(y_pred - y_train))\n",
    "            b_deri = sum(2*(y_pred - y_train))\n",
    "            self.m = self.m - (self.learning_rate * m_deri)\n",
    "            self.b = self.b - (self.learning_rate * b_deri)\n",
    "        if verbose:\n",
    "            return f\"coef_: {self.m}, intercept_: {self.b}, learning_rate={self.learning_rate}, epochs={self.epochs}\"\n",
    "        \n",
    "               \n",
    "    def predictt(self, X_test):\n",
    "        return np.array([self.m * n + self.b for n in X_test]).reshape(-1, 1)"
   ]
  },
  {
   "cell_type": "code",
   "execution_count": 72,
   "id": "76d878bb",
   "metadata": {},
   "outputs": [
    {
     "data": {
      "text/plain": [
       "'coef_: [33.39506642], intercept_: [-0.77264973], learning_rate=0.001, epochs=1000'"
      ]
     },
     "execution_count": 72,
     "metadata": {},
     "output_type": "execute_result"
    }
   ],
   "source": [
    "model = LinearRegressionn()\n",
    "model.fitt(X_train, y_train, verbose=True)"
   ]
  },
  {
   "cell_type": "code",
   "execution_count": 73,
   "id": "f0a22039",
   "metadata": {
    "collapsed": true
   },
   "outputs": [
    {
     "data": {
      "text/plain": [
       "array([[-6.75946906e+01],\n",
       "       [ 3.23461086e+01],\n",
       "       [-8.53347235e+00],\n",
       "       [-4.66841816e+01],\n",
       "       [ 4.78021474e+01],\n",
       "       [-5.58096610e+01],\n",
       "       [ 2.37602505e+01],\n",
       "       [ 3.48457956e+00],\n",
       "       [ 2.22969993e+00],\n",
       "       [ 3.20427596e+01],\n",
       "       [ 1.47276633e+01],\n",
       "       [-1.92194507e+00],\n",
       "       [-1.25427440e+01],\n",
       "       [ 2.76787059e+01],\n",
       "       [ 1.91380567e+01],\n",
       "       [ 1.84271752e+01],\n",
       "       [-1.66212750e+01],\n",
       "       [-1.62486128e+01],\n",
       "       [ 3.03030271e+01],\n",
       "       [ 4.27564875e+01],\n",
       "       [ 3.86937577e+01],\n",
       "       [-3.01211937e+01],\n",
       "       [ 6.12050954e-01],\n",
       "       [ 3.53939167e-02],\n",
       "       [ 4.72546833e+01],\n",
       "       [ 3.02156300e+01],\n",
       "       [-9.16891892e+00],\n",
       "       [ 2.48321948e+01],\n",
       "       [ 9.50701905e+00],\n",
       "       [-1.72816888e+01],\n",
       "       [ 3.56190254e+01],\n",
       "       [-3.95678389e+01],\n",
       "       [ 1.06738019e+01],\n",
       "       [ 1.27270538e+01],\n",
       "       [-1.58443562e+00],\n",
       "       [-6.06470486e+01],\n",
       "       [-5.27604274e+01],\n",
       "       [-2.11003879e+01],\n",
       "       [-2.31581370e+01],\n",
       "       [-1.03491571e+01],\n",
       "       [-4.83118866e+00],\n",
       "       [ 2.39139183e+00],\n",
       "       [ 4.66524861e+00],\n",
       "       [ 4.64814190e+01],\n",
       "       [ 2.67621454e+01],\n",
       "       [ 7.93930814e+01],\n",
       "       [-2.35397801e+01],\n",
       "       [-3.11245748e+01],\n",
       "       [ 1.14613324e+01],\n",
       "       [ 8.95241653e+00]])"
      ]
     },
     "execution_count": 73,
     "metadata": {},
     "output_type": "execute_result"
    }
   ],
   "source": [
    "model.predictt(X_test)"
   ]
  },
  {
   "cell_type": "code",
   "execution_count": null,
   "id": "90a9dad3",
   "metadata": {},
   "outputs": [],
   "source": []
  }
 ],
 "metadata": {
  "kernelspec": {
   "display_name": "Python 3 (ipykernel)",
   "language": "python",
   "name": "python3"
  },
  "language_info": {
   "codemirror_mode": {
    "name": "ipython",
    "version": 3
   },
   "file_extension": ".py",
   "mimetype": "text/x-python",
   "name": "python",
   "nbconvert_exporter": "python",
   "pygments_lexer": "ipython3",
   "version": "3.8.10"
  }
 },
 "nbformat": 4,
 "nbformat_minor": 5
}
